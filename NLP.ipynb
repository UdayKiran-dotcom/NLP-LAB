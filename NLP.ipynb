{
  "nbformat": 4,
  "nbformat_minor": 0,
  "metadata": {
    "colab": {
      "provenance": [],
      "authorship_tag": "ABX9TyNB/Gw9ZtnCNhfgba7UtBi8",
      "include_colab_link": true
    },
    "kernelspec": {
      "name": "python3",
      "display_name": "Python 3"
    },
    "language_info": {
      "name": "python"
    }
  },
  "cells": [
    {
      "cell_type": "markdown",
      "metadata": {
        "id": "view-in-github",
        "colab_type": "text"
      },
      "source": [
        "<a href=\"https://colab.research.google.com/github/UdayKiran-dotcom/NLP-LAB/blob/main/NLP.ipynb\" target=\"_parent\"><img src=\"https://colab.research.google.com/assets/colab-badge.svg\" alt=\"Open In Colab\"/></a>"
      ]
    },
    {
      "cell_type": "markdown",
      "source": [
        "##**STOPWORDS**"
      ],
      "metadata": {
        "id": "69QwipcqYhj6"
      }
    },
    {
      "cell_type": "code",
      "source": [
        "import nltk\n",
        "from nltk.corpus import stopwords\n",
        "\n",
        "# Download the stopwords corpus if you haven't already\n",
        "nltk.download('stopwords')\n",
        "\n",
        "# Get the English stop words list\n",
        "stop_words = set(stopwords.words('english'))\n",
        "\n",
        "# Example usage:\n",
        "text = \"This is an example sentence to demonstrate stop word removal.\"\n",
        "words = text.split()\n",
        "\n",
        "# Remove stop words from the list of words\n",
        "filtered_words = [word for word in words if word.lower() not in stop_words]\n",
        "\n",
        "# Join the filtered words back into a sentence\n",
        "filtered_text = ' '.join(filtered_words)\n",
        "\n",
        "print(\"Original text:\", text)\n",
        "print(\"Filtered text:\", filtered_text)"
      ],
      "metadata": {
        "colab": {
          "base_uri": "https://localhost:8080/"
        },
        "id": "Md7AeyCMVhKa",
        "outputId": "f2485353-c37a-4ea1-ea40-022fbfd8758b"
      },
      "execution_count": null,
      "outputs": [
        {
          "output_type": "stream",
          "name": "stdout",
          "text": [
            "Original text: This is an example sentence to demonstrate stop word removal.\n",
            "Filtered text: example sentence demonstrate stop word removal.\n"
          ]
        },
        {
          "output_type": "stream",
          "name": "stderr",
          "text": [
            "[nltk_data] Downloading package stopwords to /root/nltk_data...\n",
            "[nltk_data]   Unzipping corpora/stopwords.zip.\n"
          ]
        }
      ]
    },
    {
      "cell_type": "markdown",
      "source": [
        "## **TOKENIZATION**"
      ],
      "metadata": {
        "id": "jb1b1DQqYUh6"
      }
    },
    {
      "cell_type": "code",
      "source": [
        "import nltk\n",
        "\n",
        "nltk.download('punkt_tab')\n",
        "from nltk.tokenize import word_tokenize\n",
        "\n",
        "# Sample text\n",
        "text = \"This is an example sentence for tokenization.\"\n",
        "\n",
        "# Tokenize the text\n",
        "tokens = word_tokenize(text)\n",
        "\n",
        "print(tokens)"
      ],
      "metadata": {
        "id": "wU1JqiYmVh1h",
        "outputId": "7536bd05-6a46-48d2-affb-96c8ad29e44c",
        "colab": {
          "base_uri": "https://localhost:8080/"
        }
      },
      "execution_count": 4,
      "outputs": [
        {
          "output_type": "stream",
          "name": "stderr",
          "text": [
            "[nltk_data] Downloading package punkt_tab to /root/nltk_data...\n",
            "[nltk_data]   Unzipping tokenizers/punkt_tab.zip.\n"
          ]
        },
        {
          "output_type": "stream",
          "name": "stdout",
          "text": [
            "['This', 'is', 'an', 'example', 'sentence', 'for', 'tokenization', '.']\n"
          ]
        }
      ]
    },
    {
      "cell_type": "markdown",
      "source": [
        "##**STEMMING**"
      ],
      "metadata": {
        "id": "6BZRpFCyY1aB"
      }
    },
    {
      "cell_type": "code",
      "source": [
        "from nltk.stem import PorterStemmer\n",
        "from nltk.tokenize import word_tokenize\n",
        "\n",
        "# Sample text\n",
        "text = \"Playing played plays player\"\n",
        "\n",
        "# Tokenize the text\n",
        "tokens = word_tokenize(text)\n",
        "\n",
        "# Create a PorterStemmer object\n",
        "stemmer = PorterStemmer()\n",
        "\n",
        "# Stem each token\n",
        "stemmed_tokens = [stemmer.stem(token) for token in tokens]\n",
        "\n",
        "print(\"Original tokens:\", tokens)\n",
        "print(\"Stemmed tokens:\", stemmed_tokens)"
      ],
      "metadata": {
        "id": "5uxPHY9iWDt8",
        "colab": {
          "base_uri": "https://localhost:8080/"
        },
        "outputId": "d8c2aa52-e45d-48a5-e7fb-6b51b1163003"
      },
      "execution_count": 5,
      "outputs": [
        {
          "output_type": "stream",
          "name": "stdout",
          "text": [
            "Original tokens: ['Playing', 'played', 'plays', 'player']\n",
            "Stemmed tokens: ['play', 'play', 'play', 'player']\n"
          ]
        }
      ]
    },
    {
      "cell_type": "code",
      "source": [],
      "metadata": {
        "id": "RazESHt-Ym6i"
      },
      "execution_count": null,
      "outputs": []
    }
  ]
}